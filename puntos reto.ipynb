{
 "cells": [
  {
   "cell_type": "code",
   "execution_count": null,
   "metadata": {},
   "outputs": [],
   "source": [
    "# 1. Programa que imprima listado de números del 1 al 100 con sus cuadardos.\n",
    "i : int = 1 # se toma el 1 ya que es el inicio de la lista\n",
    "while (i <= 100): # la lista debe ser hasta el 100\n",
    "    cuadrado = i**2 # opración para hallar cuadrado\n",
    "    print(str(i) + \" - su cuadrado es \" + str(cuadrado)) # imprimir el número y su cuadrado para finalizar el ciclo\n",
    "    i += 1 # actualizar\n",
    "\n"
   ]
  },
  {
   "cell_type": "code",
   "execution_count": null,
   "metadata": {},
   "outputs": [],
   "source": [
    "# 2. imprimir lista de impares desde 3 hasta 999 y lista de pares desde 2 hasta 1000.\n",
    "a : int = 3 # se toma a 3 como inicio \n",
    "print(\"impares\") # para indicar tipo de números\n",
    "while (a <= 999): # los números deber llegar hasta 999\n",
    "    if a % 2 != 0: # modulo debe ser diferente de 0\n",
    "        print(a) # para finalizar, dada la condición anterior imprimir el número\n",
    "    a += 1 # actualizar\n",
    "print(\"fin\") # para indicar fin de la lista\n",
    "\n",
    "b : int = 2 # se toma el 2 como inicio\n",
    "print(\"pares\")\n",
    "while (b <= 1000): # los números deben llegar hasta 1000\n",
    "    if b % 2 == 0: # modulo deber ser iguaal a 0\n",
    "        print(b) # imprimir el número de acuerdo a la condición dada para finalizar el ciclo\n",
    "    b += 1\n",
    "print(\"fin\") "
   ]
  },
  {
   "cell_type": "code",
   "execution_count": null,
   "metadata": {},
   "outputs": [],
   "source": [
    "# 3. Orden descendente de números pares hasta 2 que sean < ó = n y n > ó =2\n",
    "n : int # para iniciar, ingresar un número n\n",
    "while (n >= 2): # n debe ser > ó = a 2\n",
    "    n -= 1  # actualizar con n - 1 para ir de mayor a menor\n",
    "    if n % 2 != 0: # el modulo difernte de 0\n",
    "        continue # la condición anterior indica números impares, si se cumple continúa con el siguiente \n",
    "    print(n) # si no se cumple lo anterior, imprimir el número, siendo éste par"
   ]
  },
  {
   "cell_type": "code",
   "execution_count": null,
   "metadata": {},
   "outputs": [],
   "source": [
    "# 4. Cuándo la población B superará a la de A.\n",
    "A : float = 25 # se inicializa a A en millones\n",
    "B : float = 18.9 # se inicializa a B en millones \n",
    "Año: int = 2022 # se inicializa en el año dado\n",
    "while (A >= B): # A debe ser > ó = que B\n",
    "    A = (A**0.02) + A  # calcular aumento con porcentaje\n",
    "    B = (B**0.03) + B  # calcular aumento con porcentaje\n",
    "    Año += 1 # actualizar con tiempo\n",
    "print(\" la población superará a la población de A en: \" + str(Año)) # para indicar el dato final\n"
   ]
  }
 ],
 "metadata": {
  "kernelspec": {
   "display_name": "Python 3",
   "language": "python",
   "name": "python3"
  },
  "language_info": {
   "codemirror_mode": {
    "name": "ipython",
    "version": 3
   },
   "file_extension": ".py",
   "mimetype": "text/x-python",
   "name": "python",
   "nbconvert_exporter": "python",
   "pygments_lexer": "ipython3",
   "version": "3.11.2"
  },
  "orig_nbformat": 4
 },
 "nbformat": 4,
 "nbformat_minor": 2
}
